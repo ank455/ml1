{
 "cells": [
  {
   "cell_type": "code",
   "execution_count": null,
   "id": "0ff812ed-77a2-4e8e-b769-26009a178615",
   "metadata": {},
   "outputs": [],
   "source": [
    "#Ans 1\n",
    "(a) Artificial intelligence - Smart Application work with it self without any human intervention.\n",
    "example - robots , alexa.\n",
    "(b)Machine Learning - it provide stats tools to analyze , visualize , predective model , forcasting.\n",
    "example - Flipkart.com , Youtube\n",
    "(c)Deep Learning -  A method in artificial intelligence (AI) that teaches computers to process data in a way that is inspired by the human brain.\n",
    "example - chatbot , voice recognition"
   ]
  },
  {
   "cell_type": "code",
   "execution_count": null,
   "id": "8ce638a4-e2f1-4fad-8c42-7e90e1fa81e1",
   "metadata": {},
   "outputs": [],
   "source": [
    "# Ans 2\n",
    "Supervised Learning - Classification is used when the output variable is categorical  with 2 or more classes. \n",
    "Example - Spam Detection , Decision Tree "
   ]
  },
  {
   "cell_type": "code",
   "execution_count": null,
   "id": "c9e64a56-4603-4da6-a5f7-55d0e61f9e84",
   "metadata": {},
   "outputs": [],
   "source": [
    "#Ans 3\n",
    "Unsupervised Learning - Uses machine learning algorithms to analyze and cluster unlabeled datasets.\n",
    "Example - dimension reduction and clustering"
   ]
  },
  {
   "cell_type": "code",
   "execution_count": null,
   "id": "eff2669c-7a11-424c-8ec5-251b1e5a99c4",
   "metadata": {},
   "outputs": [],
   "source": [
    "#Ans 4\n",
    "Artificial Intelligence is the concept of creating smart intelligent machines.\n",
    "\n",
    "Machine Learning is a subset of artificial intelligence that helps you build AI-driven applications.\n",
    "\n",
    "Deep Learning is a subset of machine learning that uses vast volumes of data and complex algorithms to train a model.\n",
    "\n",
    "Data science is the process of developing systems that gather and analyze disparate information to uncover solutions to various business challenges and solve real-world problems."
   ]
  },
  {
   "cell_type": "code",
   "execution_count": null,
   "id": "0cc809f3-330f-470c-ae84-4efe65820f07",
   "metadata": {},
   "outputs": [],
   "source": [
    "#Ans 5\n",
    "Supervised learning - It is a catogery in which we feed labeled data as input to machine learning model.\n",
    "\n",
    "Unsupervised learning - It is a catogery in machine learning in which we only have the input data to feed to model but no corresponding output data .\n",
    "\n",
    "semi supervised It is a catogery in machine learning in which we have input data and only some input data are labeled . \n",
    "\n"
   ]
  },
  {
   "cell_type": "code",
   "execution_count": null,
   "id": "d3fdcc64-7cc6-47a0-87f9-0c63a5ed6663",
   "metadata": {},
   "outputs": [],
   "source": [
    "# Ans 6\n",
    "Training data is the set of the data on which the actual training takes place. \n",
    "\n",
    "Validation split helps to improve the model performance by fine-tuning the model after each epoch. \n",
    "\n",
    "The test set informs us about the final accuracy of the model after completing the training phase."
   ]
  },
  {
   "cell_type": "code",
   "execution_count": null,
   "id": "d9c0853b-08ae-433f-aa0b-c1f3b6d93a10",
   "metadata": {},
   "outputs": [],
   "source": [
    "#Ans 7\n",
    "unsupervisd learning used in anomaly detection\n",
    "(a)Load the dataset\n",
    "(b)Check available models\n",
    "(c)Plot model\n",
    "(d)Save the model\n",
    "(e)Load the model\n",
    "(f)Score on unseen data"
   ]
  },
  {
   "cell_type": "code",
   "execution_count": null,
   "id": "720cd0fd-1dc6-45f3-a8af-feefa4022e2e",
   "metadata": {},
   "outputs": [],
   "source": [
    "# Ans 8\n",
    "Supervised learning algorithms - \n",
    "inear classifiers \n",
    "support vector machines  \n",
    "decision trees\n",
    "k-nearest neighbor\n",
    "random forest\n",
    "\n",
    "Unsupervised learning algorithms - \n",
    "Hierarchal clustering\n",
    "Anomaly detection\n",
    "Neural Networks\n",
    "Principle Component Analysis\n"
   ]
  }
 ],
 "metadata": {
  "kernelspec": {
   "display_name": "Python 3 (ipykernel)",
   "language": "python",
   "name": "python3"
  },
  "language_info": {
   "codemirror_mode": {
    "name": "ipython",
    "version": 3
   },
   "file_extension": ".py",
   "mimetype": "text/x-python",
   "name": "python",
   "nbconvert_exporter": "python",
   "pygments_lexer": "ipython3",
   "version": "3.10.8"
  }
 },
 "nbformat": 4,
 "nbformat_minor": 5
}
